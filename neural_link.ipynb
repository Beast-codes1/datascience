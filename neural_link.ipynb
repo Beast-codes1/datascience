{
 "cells": [
  {
   "cell_type": "code",
   "execution_count": 2,
   "id": "823dba7f-e892-43b6-92b6-9f4e2d5dcf35",
   "metadata": {},
   "outputs": [],
   "source": [
    "#data set\n",
    "\n",
    "#A\n",
    "\n",
    "a = [0,0,1,1,0,0,\n",
    "     0,1,0,0,1,0,\n",
    "     1,1,1,1,1,1,\n",
    "     1,0,0,0,0,1,\n",
    "     1,0,0,0,0,1]\n",
    "\n",
    "#B\n",
    "\n",
    "b = [0,1,1,1,1,0,\n",
    "     0,1,0,0,1,0,\n",
    "     0,1,1,1,1,0,\n",
    "     0,1,0,0,1,0,\n",
    "     0,1,1,1,1,0]\n",
    "\n",
    "#C\n",
    "\n",
    "c = [0,1,1,1,1,0,\n",
    "     0,1,0,0,0,0,\n",
    "     0,1,0,0,0,0,\n",
    "     0,1,0,0,0,0,\n",
    "     0,1,1,1,1,0]"
   ]
  },
  {
   "cell_type": "code",
   "execution_count": 3,
   "id": "26ba937c-cde1-4db8-9e0f-e105185f1697",
   "metadata": {},
   "outputs": [],
   "source": [
    "#creating labels \n",
    "y = [[1,0,0],\n",
    "     [0,1,0],\n",
    "     [0,0,1]]"
   ]
  },
  {
   "cell_type": "code",
   "execution_count": 4,
   "id": "1e03dce0-0c70-4a6d-baa3-42c9118bc080",
   "metadata": {},
   "outputs": [],
   "source": [
    "import numpy as np\n",
    "import matplotlib.pyplot as plt"
   ]
  },
  {
   "cell_type": "code",
   "execution_count": 5,
   "id": "803888da-5cec-493f-9763-cc99436d378c",
   "metadata": {},
   "outputs": [
    {
     "data": {
      "image/png": "[encoded data removed]",
      "text/plain": [
       "<Figure size 640x480 with 1 Axes>"
      ]
     },
     "metadata": {},
     "output_type": "display_data"
    }
   ],
   "source": [
    "# visualise the data\n",
    "plt.imshow(np.array(a).reshape(5,6))\n",
    "plt.show()"
   ]
  },
  {
   "cell_type": "code",
   "execution_count": 6,
   "id": "d5487940-8480-4dbe-b132-466d089e1d84",
   "metadata": {},
   "outputs": [
    {
     "name": "stdout",
     "output_type": "stream",
     "text": [
      "[array([[0, 0, 1, 1, 0, 0, 0, 1, 0, 0, 1, 0, 1, 1, 1, 1, 1, 1, 1, 0, 0, 0,\n",
      "        0, 1, 1, 0, 0, 0, 0, 1]]), array([[0, 1, 1, 1, 1, 0, 0, 1, 0, 0, 1, 0, 0, 1, 1, 1, 1, 0, 0, 1, 0, 0,\n",
      "        1, 0, 0, 1, 1, 1, 1, 0]]), array([[0, 1, 1, 1, 1, 0, 0, 1, 0, 0, 0, 0, 0, 1, 0, 0, 0, 0, 0, 1, 0, 0,\n",
      "        0, 0, 0, 1, 1, 1, 1, 0]])] \n",
      "\n",
      " [[1 0 0]\n",
      " [0 1 0]\n",
      " [0 0 1]]\n"
     ]
    }
   ],
   "source": [
    "#convert data and labels into numpy array\n",
    "x = [np.array(a).reshape(1,30),np.array(b).reshape(1,30),np.array(c).reshape(1,30)]\n",
    "\n",
    "y = np.array(y)\n",
    "\n",
    "print(x, \"\\n\\n\",y)"
   ]
  },
  {
   "cell_type": "code",
   "execution_count": 7,
   "id": "440237cb-b794-469b-a915-78fed9445ec2",
   "metadata": {},
   "outputs": [],
   "source": [
    "#input (1,30)\n",
    "#hidden (1,5)\n",
    "#output (3,3)"
   ]
  },
  {
   "cell_type": "code",
   "execution_count": 39,
   "id": "3f38c4ae-2608-4f01-b21c-4d5724863929",
   "metadata": {},
   "outputs": [],
   "source": [
    "#activation function \n",
    "\n",
    "def sigmoid(x):\n",
    "      return (1/(1+np.exp(-x)))"
   ]
  },
  {
   "cell_type": "code",
   "execution_count": 9,
   "id": "7fc48e1b-6bb8-44f0-b2cd-3d95889b637f",
   "metadata": {},
   "outputs": [],
   "source": [
    "#creating feed forward  NN\n",
    "def f_forward(x,w1,w2):\n",
    "    #hidden layer\n",
    "    z1 = x.dot(w1)\n",
    "    a1 = sigmoid(z1)\n",
    "\n",
    "    #output layer\n",
    "    z2 = a1.dot(w2)\n",
    "    a2 = sigmoid(z2)\n",
    "    return (a2)"
   ]
  },
  {
   "cell_type": "code",
   "execution_count": 19,
   "id": "5c3e3edb-5de7-4a68-a009-622d0cc83abc",
   "metadata": {},
   "outputs": [],
   "source": [
    "# initialize the weights\n",
    "\n",
    "def generate_wt(x,y):\n",
    "    l = []\n",
    "    for i in range(x*y):\n",
    "        l.append(np.random.randn())\n",
    "    return (np.array(l).reshape(x,y))\n",
    "        "
   ]
  },
  {
   "cell_type": "code",
   "execution_count": 65,
   "id": "b59554af-6e46-4918-b2a8-1490429d63bf",
   "metadata": {},
   "outputs": [],
   "source": [
    "def loss(out,Y):\n",
    "        s = (np.square(out-Y))\n",
    "        s= np.sum((s)/len(y))\n",
    "        return(s)"
   ]
  },
  {
   "cell_type": "code",
   "execution_count": 69,
   "id": "2b8d2fe6-b25f-4c96-bf7d-46862049b73b",
   "metadata": {},
   "outputs": [],
   "source": [
    "#back propagation\n",
    "def back_propogation(x,y,w1,w2,alpha):\n",
    "\n",
    "    #hidden layer\n",
    "    z1 =x.dot(w1)\n",
    "    a1 = sigmoid(z1)\n",
    "\n",
    "    #output layer\n",
    "    z2 = a1.dot(w2)\n",
    "    a2 = sigmoid(z2)\n",
    "\n",
    "    d2 = (a2-y)\n",
    "    d1 = np.multiply((w2.dot((d2.transpose()))).transpose(),(np.multiply(a1, 1-a1)))\n",
    "\n",
    "    #gradient\n",
    "    w1_adj = x.transpose().dot(d1)\n",
    "    w2_adj = a1.transpose().dot(d2)\n",
    "\n",
    "    w1 = w1-(alpha*(w1_adj))\n",
    "    w2 = w2-(alpha*(w2_adj))\n",
    "\n",
    "    return(w1,w2)"
   ]
  },
  {
   "cell_type": "code",
   "execution_count": 73,
   "id": "12df6475-96a8-46b1-9086-c0eb9e85a022",
   "metadata": {},
   "outputs": [],
   "source": [
    "def train(x, y, w1, w2, alpha=0.01, epoch=10):\n",
    "    acc_list = []\n",
    "    loss_list = []\n",
    "    for j in range(epoch):\n",
    "        l = []\n",
    "        for i in range(len(x)):\n",
    "            out = f_forward(x[i], w1, w2)\n",
    "            l.append(loss(out, y[i]))  # Fixed append call\n",
    "            w1, w2 = back_propogation(x[i], y[i], w1, w2, alpha)  # Fixed indexing\n",
    "\n",
    "        print(\"Epochs:\", j + 1, \"acc:\", (1 - (sum(l) / len(x))) * 100)\n",
    "        acc_list.append((1 - (sum(l) / len(x))) * 100)\n",
    "        loss_list.append(sum(l) / len(x))\n",
    "\n",
    "    return acc_list, loss_list, w1, w2\n"
   ]
  },
  {
   "cell_type": "code",
   "execution_count": 92,
   "id": "98b69054-8852-435e-8c23-54ea00345914",
   "metadata": {},
   "outputs": [],
   "source": [
    "def predict (x,w1,w2):\n",
    "    Out = f_forward(x,w1,w2)\n",
    "    maxm = 0\n",
    "    k=0\n",
    "    for i in range(len(Out[0])):\n",
    "        if(maxm<Out[0][i]):\n",
    "            maxm = Out[0][i]\n",
    "            k = i\n",
    "    if(k==0):\n",
    "            print(\"Image is of Letter A\")\n",
    "    elif(k==1):\n",
    "             print(\"Image is of Letter B\")\n",
    "    else:\n",
    "             print(\"Image is of Letter C\")\n",
    "              \n",
    "    plt.imshow(x.reshape(5,6))\n",
    "    plt.show()"
   ]
  },
  {
   "cell_type": "code",
   "execution_count": 20,
   "id": "b91f455e-7307-440c-a2fe-577cf958985f",
   "metadata": {},
   "outputs": [
    {
     "name": "stdout",
     "output_type": "stream",
     "text": [
      "[[ 1.23741391 -0.08986849 -0.02371494 -1.39282896 -1.60716139]\n",
      " [ 0.1165082   0.0213183  -0.61928976 -0.71967721  0.97417132]\n",
      " [-0.8419598  -0.84255094 -0.83791811  0.65780444  1.13146404]\n",
      " [ 0.79428834  1.09483357  0.03645609  0.62270188 -1.25380838]\n",
      " [ 0.31322944  1.27920293 -0.79806254  0.50483482  0.70096334]\n",
      " [ 0.42586547  0.64458374  2.26812768 -0.43006518 -1.52117347]\n",
      " [-0.09611224  0.05377847  1.27855404 -0.99655882 -0.26950344]\n",
      " [ 0.80791813 -0.2171991  -0.36750007 -1.1631696   0.32487609]\n",
      " [ 0.3878327  -0.46854584  1.20424915 -0.11147111 -0.6890785 ]\n",
      " [-2.66072193  1.21092747  0.49561942 -2.24136305 -0.26613258]\n",
      " [ 0.09887382 -1.28402919 -1.84218557  0.16985564 -1.11840211]\n",
      " [ 0.0147466  -1.84146241 -0.74763255  0.53717727 -0.365468  ]\n",
      " [-1.10286298 -0.87154116 -0.81003344  0.47102019  1.03523835]\n",
      " [-0.28511585 -2.02943606  0.29290081  1.17378    -0.0175121 ]\n",
      " [ 0.61115738  0.28321599  0.52944769 -2.30287674 -0.96750786]\n",
      " [-0.6875547   2.80355679  0.71039801 -1.18331749 -0.87697516]\n",
      " [ 0.70433683  0.3810521   0.57541117  0.14702575  1.06477568]\n",
      " [-0.29637013  1.76825157 -1.72761581  0.76282102  0.3554987 ]\n",
      " [ 0.74122407 -0.06596004  1.92714504  1.26943251  0.77421286]\n",
      " [ 2.08748044  0.26063636 -1.05046582 -0.90479602  1.30440008]\n",
      " [ 0.19086833 -0.85079086 -0.74488715  0.64018228 -0.19050491]\n",
      " [ 1.16500862  0.03452365 -0.01738645 -0.91133424  0.44777181]\n",
      " [ 0.10167304 -1.64424311 -1.11126463 -0.39102178  0.32629459]\n",
      " [ 0.00841232  0.85460273  1.85765951 -1.53991097  1.9480521 ]\n",
      " [ 2.11867674  0.52102637  0.32126535  0.73316374  0.92359088]\n",
      " [ 0.3347749   0.0188329   0.70677895 -0.34720027 -1.77368149]\n",
      " [ 0.50685852 -0.34854017  1.22152023 -1.65220566 -1.22606621]\n",
      " [-1.3132868  -0.18739428 -0.66152021 -1.59452279 -0.28493745]\n",
      " [ 2.05816956  1.07696671  0.13746803 -2.17341315 -0.12886319]\n",
      " [ 0.62017086  1.16753398 -0.01765083 -2.19575266  1.79871997]] \n",
      " [[ 0.69773469 -1.37127553  0.76272167]\n",
      " [ 0.6254208   0.39990337 -0.64204455]\n",
      " [ 0.24567806 -1.08514812  1.16855587]\n",
      " [ 0.38344845 -1.34704082 -0.87426814]\n",
      " [ 0.07602503 -1.76718186  0.9527099 ]]\n"
     ]
    }
   ],
   "source": [
    "w1 = generate_wt(30,5)\n",
    "w2 = generate_wt(5,3)\n",
    "print(w1 ,\"\\n\", w2)"
   ]
  },
  {
   "cell_type": "code",
   "execution_count": 74,
   "id": "c427a449-03ec-4a47-8070-799a861583bd",
   "metadata": {},
   "outputs": [
    {
     "name": "stdout",
     "output_type": "stream",
     "text": [
      "Epochs: 1 acc: 66.62426675213662\n",
      "Epochs: 2 acc: 69.35443651179507\n",
      "Epochs: 3 acc: 71.73991398617106\n",
      "Epochs: 4 acc: 73.78519641265325\n",
      "Epochs: 5 acc: 75.50108286642069\n",
      "Epochs: 6 acc: 76.92899705993011\n",
      "Epochs: 7 acc: 78.12422185208227\n",
      "Epochs: 8 acc: 79.140008787897\n",
      "Epochs: 9 acc: 80.02098485622388\n",
      "Epochs: 10 acc: 80.80227003020904\n",
      "Epochs: 11 acc: 81.51073861244069\n",
      "Epochs: 12 acc: 82.16668711530079\n",
      "Epochs: 13 acc: 82.78526914700251\n",
      "Epochs: 14 acc: 83.3775329536719\n",
      "Epochs: 15 acc: 83.95109260767187\n",
      "Epochs: 16 acc: 84.51056510494593\n",
      "Epochs: 17 acc: 85.0579669654263\n",
      "Epochs: 18 acc: 85.59325565521578\n",
      "Epochs: 19 acc: 86.11508057346902\n",
      "Epochs: 20 acc: 86.62161931383339\n",
      "Epochs: 21 acc: 87.11126393023491\n",
      "Epochs: 22 acc: 87.58299013853926\n",
      "Epochs: 23 acc: 88.03641475576707\n",
      "Epochs: 24 acc: 88.47166734120708\n",
      "Epochs: 25 acc: 88.88920973733076\n",
      "Epochs: 26 acc: 89.28968164709794\n",
      "Epochs: 27 acc: 89.67379573684237\n",
      "Epochs: 28 acc: 90.04227665935747\n",
      "Epochs: 29 acc: 90.39583014093074\n",
      "Epochs: 30 acc: 90.73512977938829\n",
      "Epochs: 31 acc: 91.06081317235322\n",
      "Epochs: 32 acc: 91.37348246371626\n",
      "Epochs: 33 acc: 91.67370671382959\n",
      "Epochs: 34 acc: 91.96202484812083\n",
      "Epochs: 35 acc: 92.2389486520661\n",
      "Epochs: 36 acc: 92.50496562452217\n",
      "Epochs: 37 acc: 92.76054164811148\n",
      "Epochs: 38 acc: 93.00612348415521\n",
      "Epochs: 39 acc: 93.24214110460936\n",
      "Epochs: 40 acc: 93.46900986266567\n",
      "Epochs: 41 acc: 93.68713249109993\n",
      "Epochs: 42 acc: 93.89690090947603\n",
      "Epochs: 43 acc: 94.09869782018025\n",
      "Epochs: 44 acc: 94.29289807876914\n",
      "Epochs: 45 acc: 94.47986983458885\n",
      "Epochs: 46 acc: 94.65997545051007\n",
      "Epochs: 47 acc: 94.83357222300248\n",
      "Epochs: 48 acc: 95.00101293279225\n",
      "Epochs: 49 acc: 95.16264625955577\n",
      "Epochs: 50 acc: 95.31881708963643\n",
      "Epochs: 51 acc: 95.46986673235257\n",
      "Epochs: 52 acc: 95.6161330372544\n",
      "Epochs: 53 acc: 95.75795037106508\n",
      "Epochs: 54 acc: 95.89564936846004\n",
      "Epochs: 55 acc: 96.02955631493145\n",
      "Epochs: 56 acc: 96.15999195318918\n",
      "Epochs: 57 acc: 96.28726942953334\n",
      "Epochs: 58 acc: 96.41169102089422\n",
      "Epochs: 59 acc: 96.5335432231224\n",
      "Epochs: 60 acc: 96.65308976708111\n",
      "Epochs: 61 acc: 96.77056221078179\n",
      "Epochs: 62 acc: 96.88614800294708\n",
      "Epochs: 63 acc: 96.99997640479047\n",
      "Epochs: 64 acc: 97.1121034459052\n",
      "Epochs: 65 acc: 97.22249813807538\n",
      "Epochs: 66 acc: 97.33103325585478\n",
      "Epochs: 67 acc: 97.43748464782081\n",
      "Epochs: 68 acc: 97.54154262408025\n",
      "Epochs: 69 acc: 97.64283695731042\n",
      "Epochs: 70 acc: 97.74097354004199\n",
      "Epochs: 71 acc: 97.83557683956367\n",
      "Epochs: 72 acc: 97.92632977302056\n",
      "Epochs: 73 acc: 98.01300297081855\n",
      "Epochs: 74 acc: 98.09546866559306\n",
      "Epochs: 75 acc: 98.17369908260625\n",
      "Epochs: 76 acc: 98.2477530745012\n",
      "Epochs: 77 acc: 98.3177564763811\n",
      "Epochs: 78 acc: 98.38388125246837\n",
      "Epochs: 79 acc: 98.44632688094804\n",
      "Epochs: 80 acc: 98.50530560861885\n",
      "Epochs: 81 acc: 98.56103182878881\n",
      "Epochs: 82 acc: 98.61371505914505\n",
      "Epochs: 83 acc: 98.66355570826008\n",
      "Epochs: 84 acc: 98.71074282661702\n",
      "Epochs: 85 acc: 98.75545317747009\n",
      "Epochs: 86 acc: 98.79785113308236\n",
      "Epochs: 87 acc: 98.8380890539797\n",
      "Epochs: 88 acc: 98.87630792674821\n",
      "Epochs: 89 acc: 98.91263811986062\n",
      "Epochs: 90 acc: 98.94720017346171\n",
      "Epochs: 91 acc: 98.98010557538076\n",
      "Epochs: 92 acc: 99.01145749820512\n",
      "Epochs: 93 acc: 99.04135148579508\n",
      "Epochs: 94 acc: 99.06987608545869\n",
      "Epochs: 95 acc: 99.09711342633115\n",
      "Epochs: 96 acc: 99.12313974672617\n",
      "Epochs: 97 acc: 99.148025874225\n",
      "Epochs: 98 acc: 99.17183766257834\n",
      "Epochs: 99 acc: 99.19463638943664\n",
      "Epochs: 100 acc: 99.21647911868371\n"
     ]
    }
   ],
   "source": [
    "acc, loss, w1, w2 = train(x , y  ,w1, w2, 0.1, 100)"
   ]
  },
  {
   "cell_type": "code",
   "execution_count": 75,
   "id": "a23080f9-51cb-4c6d-94bf-de6f09eebec2",
   "metadata": {},
   "outputs": [
    {
     "data": {
      "image/png": "[encoded data removed]",
      "text/plain": [
       "<Figure size 640x480 with 1 Axes>"
      ]
     },
     "metadata": {},
     "output_type": "display_data"
    }
   ],
   "source": [
    "import matplotlib.pyplot as plt1\n",
    "\n",
    "#plotting acccuracy\n",
    "\n",
    "plt1.plot(acc)\n",
    "plt.ylabel('Accuracy')\n",
    "plt.xlabel(\"Epochs\")\n",
    "plt1.show()"
   ]
  },
  {
   "cell_type": "code",
   "execution_count": 77,
   "id": "4f216da7-fa55-4e7c-9534-9b92bbdaa084",
   "metadata": {},
   "outputs": [
    {
     "data": {
      "image/png": "[encoded data removed]",
      "text/plain": [
       "<Figure size 640x480 with 1 Axes>"
      ]
     },
     "metadata": {},
     "output_type": "display_data"
    }
   ],
   "source": [
    "#plot loss\n",
    "\n",
    "plt1.plot(loss)\n",
    "plt.ylabel('Loss')\n",
    "plt1.xlabel(\"Epochs\")\n",
    "plt.show()"
   ]
  },
  {
   "cell_type": "code",
   "execution_count": 78,
   "id": "e8604702-29e3-4750-89c2-df705549055b",
   "metadata": {},
   "outputs": [
    {
     "name": "stdout",
     "output_type": "stream",
     "text": [
      "[[ 1.23741391e+00 -8.98684868e-02 -2.37149436e-02 -1.39282896e+00\n",
      "  -1.60716139e+00]\n",
      " [ 2.01067680e-01 -2.37235095e-01 -3.57761671e-01 -7.82832864e-01\n",
      "   1.12206687e+00]\n",
      " [-1.14331001e+00 -1.07335028e+00 -5.90650713e-01  1.05459064e+00\n",
      "   1.30461555e+00]\n",
      " [ 4.92938127e-01  8.64034231e-01  2.83723496e-01  1.01948808e+00\n",
      "  -1.08065686e+00]\n",
      " [ 3.97788922e-01  1.02064953e+00 -5.36534449e-01  4.41679164e-01\n",
      "   8.48858892e-01]\n",
      " [ 4.25865472e-01  6.44583742e-01  2.26812768e+00 -4.30065179e-01\n",
      "  -1.52117347e+00]\n",
      " [-9.61122422e-02  5.37784715e-02  1.27855404e+00 -9.96558816e-01\n",
      "  -2.69503444e-01]\n",
      " [ 5.06567912e-01 -4.47998434e-01 -1.20232672e-01 -7.66383405e-01\n",
      "   4.98027603e-01]\n",
      " [ 3.87832699e-01 -4.68545843e-01  1.20424915e+00 -1.11471111e-01\n",
      "  -6.89078498e-01]\n",
      " [-2.66072193e+00  1.21092747e+00  4.95619425e-01 -2.24136305e+00\n",
      "  -2.66132577e-01]\n",
      " [-2.63436486e-01 -3.21085258e-01 -2.20057582e+00  6.23583950e-01\n",
      "  -1.68072329e+00]\n",
      " [ 1.47466033e-02 -1.84146241e+00 -7.47632554e-01  5.37177267e-01\n",
      "  -3.65468000e-01]\n",
      " [-1.48877268e+00 -8.43787101e-01 -8.24294122e-01  9.30962047e-01\n",
      "   1.06049431e+00]\n",
      " [-5.86466068e-01 -2.26023539e+00  5.40168215e-01  1.57056620e+00\n",
      "   1.55639417e-01]\n",
      " [ 2.48847074e-01  1.24615992e+00  1.71057439e-01 -1.84914843e+00\n",
      "  -1.52982904e+00]\n",
      " [-1.04986500e+00  3.76650072e+00  3.52007762e-01 -7.29589180e-01\n",
      "  -1.43929634e+00]\n",
      " [ 3.42026525e-01  1.34399603e+00  2.17020928e-01  6.00754059e-01\n",
      "   5.02454499e-01]\n",
      " [-6.82279825e-01  1.79600563e+00 -1.74187650e+00  1.22276287e+00\n",
      "   3.80754659e-01]\n",
      " [ 3.55314368e-01 -3.82059832e-02  1.91288435e+00  1.72937436e+00\n",
      "   7.99468823e-01]\n",
      " [ 2.17203993e+00  2.08296754e-03 -7.88937735e-01 -9.67951675e-01\n",
      "   1.45229564e+00]\n",
      " [ 1.90868327e-01 -8.50790864e-01 -7.44887151e-01  6.40182278e-01\n",
      "  -1.90504908e-01]\n",
      " [ 1.16500862e+00  3.45236478e-02 -1.73864536e-02 -9.11334239e-01\n",
      "   4.47771808e-01]\n",
      " [ 1.25272431e-01 -7.09053241e-01 -1.45539419e+00 -3.97235321e-01\n",
      "  -2.61282545e-01]\n",
      " [-3.77497379e-01  8.82356792e-01  1.84339883e+00 -1.07996911e+00\n",
      "   1.97330806e+00]\n",
      " [ 1.73276704e+00  5.48780434e-01  3.07004666e-01  1.19310559e+00\n",
      "   9.48846844e-01]\n",
      " [ 4.19334385e-01 -2.39720492e-01  9.68307040e-01 -4.10355924e-01\n",
      "  -1.62578593e+00]\n",
      " [ 5.91417998e-01 -6.07093567e-01  1.48304831e+00 -1.71536131e+00\n",
      "  -1.07817066e+00]\n",
      " [-1.22872731e+00 -4.45947674e-01 -3.99992123e-01 -1.65767844e+00\n",
      "  -1.37041898e-01]\n",
      " [ 2.14272904e+00  8.18413312e-01  3.98996114e-01 -2.23656880e+00\n",
      "   1.90323603e-02]\n",
      " [ 2.34261160e-01  1.19528804e+00 -3.19115204e-02 -1.73581081e+00\n",
      "   1.82397593e+00]] \n",
      " [[-2.85088666  0.27086721  0.46709404]\n",
      " [ 0.29864338  2.14292853 -3.13677184]\n",
      " [ 0.20849583 -1.502966    1.29958039]\n",
      " [ 2.11357276 -1.7854502  -1.70468683]\n",
      " [ 0.58645796 -2.81214902  1.05613209]]\n"
     ]
    }
   ],
   "source": [
    "print(w1 ,\"\\n\", w2)"
   ]
  },
  {
   "cell_type": "code",
   "execution_count": 95,
   "id": "db8898da-2b68-4d8a-9b64-72ec713e73f3",
   "metadata": {},
   "outputs": [
    {
     "name": "stdout",
     "output_type": "stream",
     "text": [
      "Image is of Letter A\n"
     ]
    },
    {
     "data": {
      "image/png": "[encoded data removed]",
      "text/plain": [
       "<Figure size 640x480 with 1 Axes>"
      ]
     },
     "metadata": {},
     "output_type": "display_data"
    }
   ],
   "source": [
    "predict(x[0],w1,w2)"
   ]
  },
  {
   "cell_type": "code",
   "execution_count": 96,
   "id": "6e01b756-fc38-423f-8203-64f6d9be7aa7",
   "metadata": {},
   "outputs": [
    {
     "name": "stdout",
     "output_type": "stream",
     "text": [
      "Image is of Letter B\n"
     ]
    },
    {
     "data": {
      "image/png": "[encoded data removed]",
      "text/plain": [
       "<Figure size 640x480 with 1 Axes>"
      ]
     },
     "metadata": {},
     "output_type": "display_data"
    }
   ],
   "source": [
    "predict(x[1],w1,w2)"
   ]
  },
  {
   "cell_type": "code",
   "execution_count": 97,
   "id": "ee9e13f0-8b0e-4663-94c6-1003519ff716",
   "metadata": {},
   "outputs": [
    {
     "name": "stdout",
     "output_type": "stream",
     "text": [
      "Image is of Letter C\n"
     ]
    },
    {
     "data": {
      "image/png": "[encoded data removed]",
      "text/plain": [
       "<Figure size 640x480 with 1 Axes>"
      ]
     },
     "metadata": {},
     "output_type": "display_data"
    }
   ],
   "source": [
    "predict(x[2],w1,w2)"
   ]
  },
  {
   "cell_type": "code",
   "execution_count": null,
   "id": "3c99eaad-8905-432e-b62e-3e9305e846cb",
   "metadata": {},
   "outputs": [],
   "source": []
  },
  {
   "cell_type": "code",
   "execution_count": null,
   "id": "ace99873-6938-44e2-9d19-69fd76a6cb70",
   "metadata": {},
   "outputs": [],
   "source": []
  },
  {
   "cell_type": "code",
   "execution_count": null,
   "id": "4bf2fb1b-e8d2-4393-aa93-0e899dcd4633",
   "metadata": {},
   "outputs": [],
   "source": []
  },
  {
   "cell_type": "code",
   "execution_count": null,
   "id": "ba9e0508-f62b-44d0-90b1-849b8a3ad9f6",
   "metadata": {},
   "outputs": [],
   "source": []
  },
  {
   "cell_type": "code",
   "execution_count": null,
   "id": "f22849f4-6e56-4f06-8aec-cae05d4b197d",
   "metadata": {},
   "outputs": [],
   "source": []
  }
 ],
 "metadata": {
  "kernelspec": {
   "display_name": "Python 3 (ipykernel)",
   "language": "python",
   "name": "python3"
  },
  "language_info": {
   "codemirror_mode": {
    "name": "ipython",
    "version": 3
   },
   "file_extension": ".py",
   "mimetype": "text/x-python",
   "name": "python",
   "nbconvert_exporter": "python",
   "pygments_lexer": "ipython3",
   "version": "3.12.4"
  }
 },
 "nbformat": 4,
 "nbformat_minor": 5
}
